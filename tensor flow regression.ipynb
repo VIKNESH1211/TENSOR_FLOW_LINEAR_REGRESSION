{
 "cells": [
  {
   "cell_type": "code",
   "execution_count": 66,
   "metadata": {},
   "outputs": [],
   "source": [
    "import tensorflow as tf\n",
    "import pandas as pd\n",
    "import numpy as np\n",
    "import matplotlib.pyplot as plt\n",
    "import os\n",
    "os.environ['TF_CPP_MIN_LOG_LEVEL'] = '2'\n",
    "\n",
    "np.set_printoptions(precision=3, suppress=True)"
   ]
  },
  {
   "cell_type": "code",
   "execution_count": 67,
   "metadata": {},
   "outputs": [],
   "source": [
    "from tensorflow import keras\n",
    "from tensorflow.keras import layers\n",
    "from tensorflow.keras.layers.experimental import preprocessing\n",
    "from keras.models import Sequential"
   ]
  },
  {
   "cell_type": "code",
   "execution_count": 68,
   "metadata": {},
   "outputs": [],
   "source": [
    "column_names = ['MPG','Cylinders','Displacement','Horsepower','Weight','Acceleration','Model Year','Origin']\n",
    "df = pd.read_csv('auto-mpg.data', names= column_names , na_values='?', comment='\\t',sep=' ',skipinitialspace=True)\n"
   ]
  },
  {
   "cell_type": "code",
   "execution_count": 69,
   "metadata": {},
   "outputs": [
    {
     "data": {
      "text/html": [
       "<div>\n",
       "<style scoped>\n",
       "    .dataframe tbody tr th:only-of-type {\n",
       "        vertical-align: middle;\n",
       "    }\n",
       "\n",
       "    .dataframe tbody tr th {\n",
       "        vertical-align: top;\n",
       "    }\n",
       "\n",
       "    .dataframe thead th {\n",
       "        text-align: right;\n",
       "    }\n",
       "</style>\n",
       "<table border=\"1\" class=\"dataframe\">\n",
       "  <thead>\n",
       "    <tr style=\"text-align: right;\">\n",
       "      <th></th>\n",
       "      <th>MPG</th>\n",
       "      <th>Cylinders</th>\n",
       "      <th>Displacement</th>\n",
       "      <th>Horsepower</th>\n",
       "      <th>Weight</th>\n",
       "      <th>Acceleration</th>\n",
       "      <th>Model Year</th>\n",
       "      <th>Origin</th>\n",
       "    </tr>\n",
       "  </thead>\n",
       "  <tbody>\n",
       "    <tr>\n",
       "      <th>393</th>\n",
       "      <td>27.0</td>\n",
       "      <td>4</td>\n",
       "      <td>140.0</td>\n",
       "      <td>86.0</td>\n",
       "      <td>2790.0</td>\n",
       "      <td>15.6</td>\n",
       "      <td>82</td>\n",
       "      <td>1</td>\n",
       "    </tr>\n",
       "    <tr>\n",
       "      <th>394</th>\n",
       "      <td>44.0</td>\n",
       "      <td>4</td>\n",
       "      <td>97.0</td>\n",
       "      <td>52.0</td>\n",
       "      <td>2130.0</td>\n",
       "      <td>24.6</td>\n",
       "      <td>82</td>\n",
       "      <td>2</td>\n",
       "    </tr>\n",
       "    <tr>\n",
       "      <th>395</th>\n",
       "      <td>32.0</td>\n",
       "      <td>4</td>\n",
       "      <td>135.0</td>\n",
       "      <td>84.0</td>\n",
       "      <td>2295.0</td>\n",
       "      <td>11.6</td>\n",
       "      <td>82</td>\n",
       "      <td>1</td>\n",
       "    </tr>\n",
       "    <tr>\n",
       "      <th>396</th>\n",
       "      <td>28.0</td>\n",
       "      <td>4</td>\n",
       "      <td>120.0</td>\n",
       "      <td>79.0</td>\n",
       "      <td>2625.0</td>\n",
       "      <td>18.6</td>\n",
       "      <td>82</td>\n",
       "      <td>1</td>\n",
       "    </tr>\n",
       "    <tr>\n",
       "      <th>397</th>\n",
       "      <td>31.0</td>\n",
       "      <td>4</td>\n",
       "      <td>119.0</td>\n",
       "      <td>82.0</td>\n",
       "      <td>2720.0</td>\n",
       "      <td>19.4</td>\n",
       "      <td>82</td>\n",
       "      <td>1</td>\n",
       "    </tr>\n",
       "  </tbody>\n",
       "</table>\n",
       "</div>"
      ],
      "text/plain": [
       "      MPG  Cylinders  Displacement  Horsepower  Weight  Acceleration  \\\n",
       "393  27.0          4         140.0        86.0  2790.0          15.6   \n",
       "394  44.0          4          97.0        52.0  2130.0          24.6   \n",
       "395  32.0          4         135.0        84.0  2295.0          11.6   \n",
       "396  28.0          4         120.0        79.0  2625.0          18.6   \n",
       "397  31.0          4         119.0        82.0  2720.0          19.4   \n",
       "\n",
       "     Model Year  Origin  \n",
       "393          82       1  \n",
       "394          82       2  \n",
       "395          82       1  \n",
       "396          82       1  \n",
       "397          82       1  "
      ]
     },
     "execution_count": 69,
     "metadata": {},
     "output_type": "execute_result"
    }
   ],
   "source": [
    "df.tail()"
   ]
  },
  {
   "cell_type": "code",
   "execution_count": 70,
   "metadata": {},
   "outputs": [],
   "source": [
    "#clean data set\n",
    "df = df.dropna()\n",
    "\n",
    "# convert categorical 'Origin' data into one-hot data\n",
    "origin = df.pop('Origin')\n",
    "df['USA'] = (origin ==  1)*1\n",
    "df['Europe'] = (origin == 2)*1\n",
    "df['Japan'] = (origin == 3)*1"
   ]
  },
  {
   "cell_type": "code",
   "execution_count": 71,
   "metadata": {},
   "outputs": [
    {
     "data": {
      "text/html": [
       "<div>\n",
       "<style scoped>\n",
       "    .dataframe tbody tr th:only-of-type {\n",
       "        vertical-align: middle;\n",
       "    }\n",
       "\n",
       "    .dataframe tbody tr th {\n",
       "        vertical-align: top;\n",
       "    }\n",
       "\n",
       "    .dataframe thead th {\n",
       "        text-align: right;\n",
       "    }\n",
       "</style>\n",
       "<table border=\"1\" class=\"dataframe\">\n",
       "  <thead>\n",
       "    <tr style=\"text-align: right;\">\n",
       "      <th></th>\n",
       "      <th>MPG</th>\n",
       "      <th>Cylinders</th>\n",
       "      <th>Displacement</th>\n",
       "      <th>Horsepower</th>\n",
       "      <th>Weight</th>\n",
       "      <th>Acceleration</th>\n",
       "      <th>Model Year</th>\n",
       "      <th>USA</th>\n",
       "      <th>Europe</th>\n",
       "      <th>Japan</th>\n",
       "    </tr>\n",
       "  </thead>\n",
       "  <tbody>\n",
       "    <tr>\n",
       "      <th>393</th>\n",
       "      <td>27.0</td>\n",
       "      <td>4</td>\n",
       "      <td>140.0</td>\n",
       "      <td>86.0</td>\n",
       "      <td>2790.0</td>\n",
       "      <td>15.6</td>\n",
       "      <td>82</td>\n",
       "      <td>1</td>\n",
       "      <td>0</td>\n",
       "      <td>0</td>\n",
       "    </tr>\n",
       "    <tr>\n",
       "      <th>394</th>\n",
       "      <td>44.0</td>\n",
       "      <td>4</td>\n",
       "      <td>97.0</td>\n",
       "      <td>52.0</td>\n",
       "      <td>2130.0</td>\n",
       "      <td>24.6</td>\n",
       "      <td>82</td>\n",
       "      <td>0</td>\n",
       "      <td>1</td>\n",
       "      <td>0</td>\n",
       "    </tr>\n",
       "    <tr>\n",
       "      <th>395</th>\n",
       "      <td>32.0</td>\n",
       "      <td>4</td>\n",
       "      <td>135.0</td>\n",
       "      <td>84.0</td>\n",
       "      <td>2295.0</td>\n",
       "      <td>11.6</td>\n",
       "      <td>82</td>\n",
       "      <td>1</td>\n",
       "      <td>0</td>\n",
       "      <td>0</td>\n",
       "    </tr>\n",
       "    <tr>\n",
       "      <th>396</th>\n",
       "      <td>28.0</td>\n",
       "      <td>4</td>\n",
       "      <td>120.0</td>\n",
       "      <td>79.0</td>\n",
       "      <td>2625.0</td>\n",
       "      <td>18.6</td>\n",
       "      <td>82</td>\n",
       "      <td>1</td>\n",
       "      <td>0</td>\n",
       "      <td>0</td>\n",
       "    </tr>\n",
       "    <tr>\n",
       "      <th>397</th>\n",
       "      <td>31.0</td>\n",
       "      <td>4</td>\n",
       "      <td>119.0</td>\n",
       "      <td>82.0</td>\n",
       "      <td>2720.0</td>\n",
       "      <td>19.4</td>\n",
       "      <td>82</td>\n",
       "      <td>1</td>\n",
       "      <td>0</td>\n",
       "      <td>0</td>\n",
       "    </tr>\n",
       "  </tbody>\n",
       "</table>\n",
       "</div>"
      ],
      "text/plain": [
       "      MPG  Cylinders  Displacement  Horsepower  Weight  Acceleration  \\\n",
       "393  27.0          4         140.0        86.0  2790.0          15.6   \n",
       "394  44.0          4          97.0        52.0  2130.0          24.6   \n",
       "395  32.0          4         135.0        84.0  2295.0          11.6   \n",
       "396  28.0          4         120.0        79.0  2625.0          18.6   \n",
       "397  31.0          4         119.0        82.0  2720.0          19.4   \n",
       "\n",
       "     Model Year  USA  Europe  Japan  \n",
       "393          82    1       0      0  \n",
       "394          82    0       1      0  \n",
       "395          82    1       0      0  \n",
       "396          82    1       0      0  \n",
       "397          82    1       0      0  "
      ]
     },
     "execution_count": 71,
     "metadata": {},
     "output_type": "execute_result"
    }
   ],
   "source": [
    "df.tail()"
   ]
  },
  {
   "cell_type": "code",
   "execution_count": 72,
   "metadata": {},
   "outputs": [
    {
     "name": "stdout",
     "output_type": "stream",
     "text": [
      "(392, 10) (314, 10) (78, 10)\n"
     ]
    }
   ],
   "source": [
    "#split data into train and test\n",
    "train_df = df.sample(frac=0.8, random_state=0)\n",
    "test_df = df.drop(train_df.index)\n",
    "\n",
    "print(df.shape , train_df.shape , test_df.shape)"
   ]
  },
  {
   "cell_type": "code",
   "execution_count": 73,
   "metadata": {},
   "outputs": [
    {
     "data": {
      "text/html": [
       "<div>\n",
       "<style scoped>\n",
       "    .dataframe tbody tr th:only-of-type {\n",
       "        vertical-align: middle;\n",
       "    }\n",
       "\n",
       "    .dataframe tbody tr th {\n",
       "        vertical-align: top;\n",
       "    }\n",
       "\n",
       "    .dataframe thead th {\n",
       "        text-align: right;\n",
       "    }\n",
       "</style>\n",
       "<table border=\"1\" class=\"dataframe\">\n",
       "  <thead>\n",
       "    <tr style=\"text-align: right;\">\n",
       "      <th></th>\n",
       "      <th>count</th>\n",
       "      <th>mean</th>\n",
       "      <th>std</th>\n",
       "      <th>min</th>\n",
       "      <th>25%</th>\n",
       "      <th>50%</th>\n",
       "      <th>75%</th>\n",
       "      <th>max</th>\n",
       "    </tr>\n",
       "  </thead>\n",
       "  <tbody>\n",
       "    <tr>\n",
       "      <th>MPG</th>\n",
       "      <td>314.0</td>\n",
       "      <td>23.310510</td>\n",
       "      <td>7.728652</td>\n",
       "      <td>10.0</td>\n",
       "      <td>17.00</td>\n",
       "      <td>22.0</td>\n",
       "      <td>28.95</td>\n",
       "      <td>46.6</td>\n",
       "    </tr>\n",
       "    <tr>\n",
       "      <th>Cylinders</th>\n",
       "      <td>314.0</td>\n",
       "      <td>5.477707</td>\n",
       "      <td>1.699788</td>\n",
       "      <td>3.0</td>\n",
       "      <td>4.00</td>\n",
       "      <td>4.0</td>\n",
       "      <td>8.00</td>\n",
       "      <td>8.0</td>\n",
       "    </tr>\n",
       "    <tr>\n",
       "      <th>Displacement</th>\n",
       "      <td>314.0</td>\n",
       "      <td>195.318471</td>\n",
       "      <td>104.331589</td>\n",
       "      <td>68.0</td>\n",
       "      <td>105.50</td>\n",
       "      <td>151.0</td>\n",
       "      <td>265.75</td>\n",
       "      <td>455.0</td>\n",
       "    </tr>\n",
       "    <tr>\n",
       "      <th>Horsepower</th>\n",
       "      <td>314.0</td>\n",
       "      <td>104.869427</td>\n",
       "      <td>38.096214</td>\n",
       "      <td>46.0</td>\n",
       "      <td>76.25</td>\n",
       "      <td>94.5</td>\n",
       "      <td>128.00</td>\n",
       "      <td>225.0</td>\n",
       "    </tr>\n",
       "    <tr>\n",
       "      <th>Weight</th>\n",
       "      <td>314.0</td>\n",
       "      <td>2990.251592</td>\n",
       "      <td>843.898596</td>\n",
       "      <td>1649.0</td>\n",
       "      <td>2256.50</td>\n",
       "      <td>2822.5</td>\n",
       "      <td>3608.00</td>\n",
       "      <td>5140.0</td>\n",
       "    </tr>\n",
       "    <tr>\n",
       "      <th>Acceleration</th>\n",
       "      <td>314.0</td>\n",
       "      <td>15.559236</td>\n",
       "      <td>2.789230</td>\n",
       "      <td>8.0</td>\n",
       "      <td>13.80</td>\n",
       "      <td>15.5</td>\n",
       "      <td>17.20</td>\n",
       "      <td>24.8</td>\n",
       "    </tr>\n",
       "    <tr>\n",
       "      <th>Model Year</th>\n",
       "      <td>314.0</td>\n",
       "      <td>75.898089</td>\n",
       "      <td>3.675642</td>\n",
       "      <td>70.0</td>\n",
       "      <td>73.00</td>\n",
       "      <td>76.0</td>\n",
       "      <td>79.00</td>\n",
       "      <td>82.0</td>\n",
       "    </tr>\n",
       "    <tr>\n",
       "      <th>USA</th>\n",
       "      <td>314.0</td>\n",
       "      <td>0.624204</td>\n",
       "      <td>0.485101</td>\n",
       "      <td>0.0</td>\n",
       "      <td>0.00</td>\n",
       "      <td>1.0</td>\n",
       "      <td>1.00</td>\n",
       "      <td>1.0</td>\n",
       "    </tr>\n",
       "    <tr>\n",
       "      <th>Europe</th>\n",
       "      <td>314.0</td>\n",
       "      <td>0.178344</td>\n",
       "      <td>0.383413</td>\n",
       "      <td>0.0</td>\n",
       "      <td>0.00</td>\n",
       "      <td>0.0</td>\n",
       "      <td>0.00</td>\n",
       "      <td>1.0</td>\n",
       "    </tr>\n",
       "    <tr>\n",
       "      <th>Japan</th>\n",
       "      <td>314.0</td>\n",
       "      <td>0.197452</td>\n",
       "      <td>0.398712</td>\n",
       "      <td>0.0</td>\n",
       "      <td>0.00</td>\n",
       "      <td>0.0</td>\n",
       "      <td>0.00</td>\n",
       "      <td>1.0</td>\n",
       "    </tr>\n",
       "  </tbody>\n",
       "</table>\n",
       "</div>"
      ],
      "text/plain": [
       "              count         mean         std     min      25%     50%  \\\n",
       "MPG           314.0    23.310510    7.728652    10.0    17.00    22.0   \n",
       "Cylinders     314.0     5.477707    1.699788     3.0     4.00     4.0   \n",
       "Displacement  314.0   195.318471  104.331589    68.0   105.50   151.0   \n",
       "Horsepower    314.0   104.869427   38.096214    46.0    76.25    94.5   \n",
       "Weight        314.0  2990.251592  843.898596  1649.0  2256.50  2822.5   \n",
       "Acceleration  314.0    15.559236    2.789230     8.0    13.80    15.5   \n",
       "Model Year    314.0    75.898089    3.675642    70.0    73.00    76.0   \n",
       "USA           314.0     0.624204    0.485101     0.0     0.00     1.0   \n",
       "Europe        314.0     0.178344    0.383413     0.0     0.00     0.0   \n",
       "Japan         314.0     0.197452    0.398712     0.0     0.00     0.0   \n",
       "\n",
       "                  75%     max  \n",
       "MPG             28.95    46.6  \n",
       "Cylinders        8.00     8.0  \n",
       "Displacement   265.75   455.0  \n",
       "Horsepower     128.00   225.0  \n",
       "Weight        3608.00  5140.0  \n",
       "Acceleration    17.20    24.8  \n",
       "Model Year      79.00    82.0  \n",
       "USA              1.00     1.0  \n",
       "Europe           0.00     1.0  \n",
       "Japan            0.00     1.0  "
      ]
     },
     "execution_count": 73,
     "metadata": {},
     "output_type": "execute_result"
    }
   ],
   "source": [
    "train_df.describe().transpose()"
   ]
  },
  {
   "cell_type": "code",
   "execution_count": 74,
   "metadata": {},
   "outputs": [],
   "source": [
    "#split features form labels\n",
    "train_features = train_df.copy()\n",
    "test_features = test_df.copy()\n",
    "\n",
    "train_labels = train_features.pop('MPG')\n",
    "test_labels = test_features.pop('MPG')"
   ]
  },
  {
   "cell_type": "code",
   "execution_count": 75,
   "metadata": {},
   "outputs": [],
   "source": [
    "# custom plot function\n",
    "def plot(feature , x=None , y=None):\n",
    "    plt.figure(figsize=(10,8))\n",
    "    plt.scatter(train_features[feature], train_labels, label='Data')\n",
    "    if x is not None and y is not None:\n",
    "        plt.plot(x,y, color='k' , label='Prediction')\n",
    "    plt.xlabel(feature)\n",
    "    plt.ylabel('MPG')\n",
    "    plt.legend()"
   ]
  },
  {
   "cell_type": "code",
   "execution_count": 76,
   "metadata": {},
   "outputs": [
    {
     "data": {
      "image/png": "[encoded data removed]",
      "text/plain": [
       "<Figure size 720x576 with 1 Axes>"
      ]
     },
     "metadata": {
      "needs_background": "light"
     },
     "output_type": "display_data"
    }
   ],
   "source": [
    "plot('Horsepower')"
   ]
  },
  {
   "cell_type": "code",
   "execution_count": 77,
   "metadata": {},
   "outputs": [
    {
     "data": {
      "image/png": "[encoded data removed]",
      "text/plain": [
       "<Figure size 720x576 with 1 Axes>"
      ]
     },
     "metadata": {
      "needs_background": "light"
     },
     "output_type": "display_data"
    }
   ],
   "source": [
    "plot('Weight')"
   ]
  },
  {
   "cell_type": "code",
   "execution_count": 78,
   "metadata": {},
   "outputs": [
    {
     "name": "stdout",
     "output_type": "stream",
     "text": [
      "                     mean         std\n",
      "MPG             23.310510    7.728652\n",
      "Cylinders        5.477707    1.699788\n",
      "Displacement   195.318471  104.331589\n",
      "Horsepower     104.869427   38.096214\n",
      "Weight        2990.251592  843.898596\n",
      "Acceleration    15.559236    2.789230\n",
      "Model Year      75.898089    3.675642\n",
      "USA              0.624204    0.485101\n",
      "Europe           0.178344    0.383413\n",
      "Japan            0.197452    0.398712\n",
      "[[   5.478  195.318  104.869 2990.252   15.559   75.898    0.624    0.178\n",
      "     0.197]]\n"
     ]
    }
   ],
   "source": [
    "# Normalize\n",
    "print(train_df.describe().transpose()[['mean', 'std']])\n",
    "\n",
    "# Normalization\n",
    "normalizer = preprocessing.Normalization()\n",
    "\n",
    "# adapt to the data\n",
    "normalizer.adapt(np.array(train_features))\n",
    "print(normalizer.mean.numpy())"
   ]
  },
  {
   "cell_type": "code",
   "execution_count": 79,
   "metadata": {},
   "outputs": [
    {
     "name": "stdout",
     "output_type": "stream",
     "text": [
      "First example: [[   4.    90.    75.  2125.    14.5   74.     1.     0.     0. ]]\n",
      "Normalized: [[-0.871 -1.011 -0.785 -1.027 -0.38  -0.517  0.776 -0.466 -0.496]]\n"
     ]
    }
   ],
   "source": [
    "# When the layer is called it returns the input data, with each feature independently normalized:\n",
    "# (input-mean)/stddev\n",
    "first = np.array(train_features[:1])\n",
    "print('First example:', first)\n",
    "print('Normalized:', normalizer(first).numpy())"
   ]
  },
  {
   "cell_type": "code",
   "execution_count": 80,
   "metadata": {},
   "outputs": [
    {
     "name": "stdout",
     "output_type": "stream",
     "text": [
      "(314, 1) (314, 9)\n"
     ]
    }
   ],
   "source": [
    "#Regression\n",
    "# 1. Normalise the input horse power\n",
    "# 2. Apply a linear tranformation (y = m*x+b) to produce a output using layers.Dense\n",
    "\n",
    "feature = 'Horsepower'\n",
    "\n",
    "single_feature = np.array(train_features[feature]).reshape(-1,1)\n",
    "print(single_feature.shape, train_features.shape)\n",
    "\n",
    "# Normalization\n",
    "single_feature_normalizer = preprocessing.Normalization()\n",
    "\n",
    "# adapt to the data\n",
    "single_feature_normalizer.adapt(single_feature)"
   ]
  },
  {
   "cell_type": "code",
   "execution_count": 81,
   "metadata": {},
   "outputs": [
    {
     "data": {
      "text/plain": [
       "(314, 1)"
      ]
     },
     "execution_count": 81,
     "metadata": {},
     "output_type": "execute_result"
    }
   ],
   "source": [
    "single_feature.shape"
   ]
  },
  {
   "cell_type": "code",
   "execution_count": 82,
   "metadata": {},
   "outputs": [
    {
     "name": "stdout",
     "output_type": "stream",
     "text": [
      "Model: \"sequential_17\"\n",
      "_________________________________________________________________\n",
      " Layer (type)                Output Shape              Param #   \n",
      "=================================================================\n",
      " normalization_3 (Normalizat  (None, 1)                3         \n",
      " ion)                                                            \n",
      "                                                                 \n",
      " dense_16 (Dense)            (None, 1)                 2         \n",
      "                                                                 \n",
      "=================================================================\n",
      "Total params: 5\n",
      "Trainable params: 2\n",
      "Non-trainable params: 3\n",
      "_________________________________________________________________\n"
     ]
    }
   ],
   "source": [
    "# sequential model for single feature\n",
    "single_feature_model = tf.keras.models.Sequential()\n",
    "single_feature_model.add(tf.keras.Input(shape=(1)))\n",
    "single_feature_model.add(single_feature_normalizer)\n",
    "single_feature_model.add(tf.keras.layers.Dense(1))\n",
    "\n",
    "single_feature_model.summary()"
   ]
  },
  {
   "cell_type": "code",
   "execution_count": 83,
   "metadata": {},
   "outputs": [
    {
     "name": "stderr",
     "output_type": "stream",
     "text": [
      "c:\\Users\\S.Viknesh\\miniconda3\\lib\\site-packages\\keras\\optimizers\\optimizer_v2\\adam.py:110: UserWarning: The `lr` argument is deprecated, use `learning_rate` instead.\n",
      "  super(Adam, self).__init__(name, **kwargs)\n"
     ]
    }
   ],
   "source": [
    "#loss and optimiser\n",
    "loss = keras.losses.MeanAbsoluteError()\n",
    "optimiser = keras.optimizers.Adam(lr=0.1)\n"
   ]
  },
  {
   "cell_type": "code",
   "execution_count": 84,
   "metadata": {},
   "outputs": [],
   "source": [
    "#complie the model\n",
    "single_feature_model.compile(optimizer=optimiser , loss= loss  )"
   ]
  },
  {
   "cell_type": "code",
   "execution_count": 85,
   "metadata": {},
   "outputs": [
    {
     "name": "stdout",
     "output_type": "stream",
     "text": [
      "Epoch 1/100\n",
      "8/8 [==============================] - 0s 13ms/step - loss: 22.8700 - val_loss: 22.9319\n",
      "Epoch 2/100\n",
      "8/8 [==============================] - 0s 3ms/step - loss: 22.0677 - val_loss: 22.1322\n",
      "Epoch 3/100\n",
      "8/8 [==============================] - 0s 3ms/step - loss: 21.2623 - val_loss: 21.3319\n",
      "Epoch 4/100\n",
      "8/8 [==============================] - 0s 4ms/step - loss: 20.4633 - val_loss: 20.5318\n",
      "Epoch 5/100\n",
      "8/8 [==============================] - 0s 4ms/step - loss: 19.6648 - val_loss: 19.7317\n",
      "Epoch 6/100\n",
      "8/8 [==============================] - 0s 3ms/step - loss: 18.8620 - val_loss: 18.9319\n",
      "Epoch 7/100\n",
      "8/8 [==============================] - 0s 4ms/step - loss: 18.0646 - val_loss: 18.1321\n",
      "Epoch 8/100\n",
      "8/8 [==============================] - 0s 3ms/step - loss: 17.2635 - val_loss: 17.3320\n",
      "Epoch 9/100\n",
      "8/8 [==============================] - 0s 3ms/step - loss: 16.4624 - val_loss: 16.5320\n",
      "Epoch 10/100\n",
      "8/8 [==============================] - 0s 3ms/step - loss: 15.6625 - val_loss: 15.7320\n",
      "Epoch 11/100\n",
      "8/8 [==============================] - 0s 4ms/step - loss: 14.8626 - val_loss: 14.9319\n",
      "Epoch 12/100\n",
      "8/8 [==============================] - 0s 3ms/step - loss: 14.0630 - val_loss: 14.1321\n",
      "Epoch 13/100\n",
      "8/8 [==============================] - 0s 4ms/step - loss: 13.2700 - val_loss: 13.3324\n",
      "Epoch 14/100\n",
      "8/8 [==============================] - 0s 4ms/step - loss: 12.4625 - val_loss: 12.5322\n",
      "Epoch 15/100\n",
      "8/8 [==============================] - 0s 3ms/step - loss: 11.6619 - val_loss: 11.7321\n",
      "Epoch 16/100\n",
      "8/8 [==============================] - 0s 3ms/step - loss: 10.8715 - val_loss: 10.9328\n",
      "Epoch 17/100\n",
      "8/8 [==============================] - 0s 3ms/step - loss: 10.0771 - val_loss: 10.1441\n",
      "Epoch 18/100\n",
      "8/8 [==============================] - 0s 3ms/step - loss: 9.3036 - val_loss: 9.3888\n",
      "Epoch 19/100\n",
      "8/8 [==============================] - 0s 4ms/step - loss: 8.5732 - val_loss: 8.6414\n",
      "Epoch 20/100\n",
      "8/8 [==============================] - 0s 3ms/step - loss: 7.8692 - val_loss: 7.9017\n",
      "Epoch 21/100\n",
      "8/8 [==============================] - 0s 4ms/step - loss: 7.1741 - val_loss: 7.1997\n",
      "Epoch 22/100\n",
      "8/8 [==============================] - 0s 3ms/step - loss: 6.5507 - val_loss: 6.5460\n",
      "Epoch 23/100\n",
      "8/8 [==============================] - 0s 4ms/step - loss: 5.9657 - val_loss: 5.9799\n",
      "Epoch 24/100\n",
      "8/8 [==============================] - 0s 4ms/step - loss: 5.4517 - val_loss: 5.5582\n",
      "Epoch 25/100\n",
      "8/8 [==============================] - 0s 3ms/step - loss: 5.0410 - val_loss: 5.2221\n",
      "Epoch 26/100\n",
      "8/8 [==============================] - 0s 3ms/step - loss: 4.7355 - val_loss: 4.9976\n",
      "Epoch 27/100\n",
      "8/8 [==============================] - 0s 4ms/step - loss: 4.4883 - val_loss: 4.8185\n",
      "Epoch 28/100\n",
      "8/8 [==============================] - 0s 3ms/step - loss: 4.2696 - val_loss: 4.6515\n",
      "Epoch 29/100\n",
      "8/8 [==============================] - 0s 3ms/step - loss: 4.1240 - val_loss: 4.5443\n",
      "Epoch 30/100\n",
      "8/8 [==============================] - 0s 3ms/step - loss: 4.0240 - val_loss: 4.4663\n",
      "Epoch 31/100\n",
      "8/8 [==============================] - 0s 3ms/step - loss: 3.9455 - val_loss: 4.3814\n",
      "Epoch 32/100\n",
      "8/8 [==============================] - 0s 3ms/step - loss: 3.8883 - val_loss: 4.3073\n",
      "Epoch 33/100\n",
      "8/8 [==============================] - 0s 3ms/step - loss: 3.8575 - val_loss: 4.2691\n",
      "Epoch 34/100\n",
      "8/8 [==============================] - 0s 3ms/step - loss: 3.8370 - val_loss: 4.2425\n",
      "Epoch 35/100\n",
      "8/8 [==============================] - 0s 4ms/step - loss: 3.8274 - val_loss: 4.2175\n",
      "Epoch 36/100\n",
      "8/8 [==============================] - 0s 3ms/step - loss: 3.8215 - val_loss: 4.2358\n",
      "Epoch 37/100\n",
      "8/8 [==============================] - 0s 4ms/step - loss: 3.8160 - val_loss: 4.2230\n",
      "Epoch 38/100\n",
      "8/8 [==============================] - 0s 3ms/step - loss: 3.8101 - val_loss: 4.1963\n",
      "Epoch 39/100\n",
      "8/8 [==============================] - 0s 4ms/step - loss: 3.8056 - val_loss: 4.1971\n",
      "Epoch 40/100\n",
      "8/8 [==============================] - 0s 3ms/step - loss: 3.8130 - val_loss: 4.2311\n",
      "Epoch 41/100\n",
      "8/8 [==============================] - 0s 3ms/step - loss: 3.8060 - val_loss: 4.2112\n",
      "Epoch 42/100\n",
      "8/8 [==============================] - 0s 4ms/step - loss: 3.8014 - val_loss: 4.1936\n",
      "Epoch 43/100\n",
      "8/8 [==============================] - 0s 3ms/step - loss: 3.8045 - val_loss: 4.1777\n",
      "Epoch 44/100\n",
      "8/8 [==============================] - 0s 3ms/step - loss: 3.8049 - val_loss: 4.1837\n",
      "Epoch 45/100\n",
      "8/8 [==============================] - 0s 3ms/step - loss: 3.8048 - val_loss: 4.2017\n",
      "Epoch 46/100\n",
      "8/8 [==============================] - 0s 3ms/step - loss: 3.8046 - val_loss: 4.1904\n",
      "Epoch 47/100\n",
      "8/8 [==============================] - 0s 3ms/step - loss: 3.8044 - val_loss: 4.2019\n",
      "Epoch 48/100\n",
      "8/8 [==============================] - 0s 3ms/step - loss: 3.8030 - val_loss: 4.1954\n",
      "Epoch 49/100\n",
      "8/8 [==============================] - 0s 4ms/step - loss: 3.8025 - val_loss: 4.1799\n",
      "Epoch 50/100\n",
      "8/8 [==============================] - 0s 4ms/step - loss: 3.8039 - val_loss: 4.1927\n",
      "Epoch 51/100\n",
      "8/8 [==============================] - 0s 4ms/step - loss: 3.8026 - val_loss: 4.1939\n",
      "Epoch 52/100\n",
      "8/8 [==============================] - 0s 3ms/step - loss: 3.8027 - val_loss: 4.1917\n",
      "Epoch 53/100\n",
      "8/8 [==============================] - 0s 3ms/step - loss: 3.8104 - val_loss: 4.2183\n",
      "Epoch 54/100\n",
      "8/8 [==============================] - 0s 3ms/step - loss: 3.8007 - val_loss: 4.1843\n",
      "Epoch 55/100\n",
      "8/8 [==============================] - 0s 3ms/step - loss: 3.8018 - val_loss: 4.1606\n",
      "Epoch 56/100\n",
      "8/8 [==============================] - 0s 3ms/step - loss: 3.8055 - val_loss: 4.1538\n",
      "Epoch 57/100\n",
      "8/8 [==============================] - 0s 4ms/step - loss: 3.8064 - val_loss: 4.1738\n",
      "Epoch 58/100\n",
      "8/8 [==============================] - 0s 3ms/step - loss: 3.8039 - val_loss: 4.1927\n",
      "Epoch 59/100\n",
      "8/8 [==============================] - 0s 4ms/step - loss: 3.8030 - val_loss: 4.1978\n",
      "Epoch 60/100\n",
      "8/8 [==============================] - 0s 3ms/step - loss: 3.8031 - val_loss: 4.1892\n",
      "Epoch 61/100\n",
      "8/8 [==============================] - 0s 3ms/step - loss: 3.8027 - val_loss: 4.1895\n",
      "Epoch 62/100\n",
      "8/8 [==============================] - 0s 3ms/step - loss: 3.8102 - val_loss: 4.2208\n",
      "Epoch 63/100\n",
      "8/8 [==============================] - 0s 3ms/step - loss: 3.8056 - val_loss: 4.1821\n",
      "Epoch 64/100\n",
      "8/8 [==============================] - 0s 3ms/step - loss: 3.8088 - val_loss: 4.1614\n",
      "Epoch 65/100\n",
      "8/8 [==============================] - 0s 4ms/step - loss: 3.8033 - val_loss: 4.1777\n",
      "Epoch 66/100\n",
      "8/8 [==============================] - 0s 3ms/step - loss: 3.8071 - val_loss: 4.1932\n",
      "Epoch 67/100\n",
      "8/8 [==============================] - 0s 3ms/step - loss: 3.8058 - val_loss: 4.1928\n",
      "Epoch 68/100\n",
      "8/8 [==============================] - 0s 3ms/step - loss: 3.8022 - val_loss: 4.2008\n",
      "Epoch 69/100\n",
      "8/8 [==============================] - 0s 3ms/step - loss: 3.8050 - val_loss: 4.1800\n",
      "Epoch 70/100\n",
      "8/8 [==============================] - 0s 4ms/step - loss: 3.8026 - val_loss: 4.1892\n",
      "Epoch 71/100\n",
      "8/8 [==============================] - 0s 4ms/step - loss: 3.8034 - val_loss: 4.1950\n",
      "Epoch 72/100\n",
      "8/8 [==============================] - 0s 3ms/step - loss: 3.8043 - val_loss: 4.2017\n",
      "Epoch 73/100\n",
      "8/8 [==============================] - 0s 3ms/step - loss: 3.8020 - val_loss: 4.1922\n",
      "Epoch 74/100\n",
      "8/8 [==============================] - 0s 3ms/step - loss: 3.8065 - val_loss: 4.1690\n",
      "Epoch 75/100\n",
      "8/8 [==============================] - 0s 4ms/step - loss: 3.8058 - val_loss: 4.1719\n",
      "Epoch 76/100\n",
      "8/8 [==============================] - 0s 3ms/step - loss: 3.8036 - val_loss: 4.1847\n",
      "Epoch 77/100\n",
      "8/8 [==============================] - 0s 3ms/step - loss: 3.8064 - val_loss: 4.2082\n",
      "Epoch 78/100\n",
      "8/8 [==============================] - 0s 3ms/step - loss: 3.8030 - val_loss: 4.1870\n",
      "Epoch 79/100\n",
      "8/8 [==============================] - 0s 4ms/step - loss: 3.8028 - val_loss: 4.1783\n",
      "Epoch 80/100\n",
      "8/8 [==============================] - 0s 3ms/step - loss: 3.8039 - val_loss: 4.1863\n",
      "Epoch 81/100\n",
      "8/8 [==============================] - 0s 3ms/step - loss: 3.8089 - val_loss: 4.2047\n",
      "Epoch 82/100\n",
      "8/8 [==============================] - 0s 3ms/step - loss: 3.8023 - val_loss: 4.1749\n",
      "Epoch 83/100\n",
      "8/8 [==============================] - 0s 3ms/step - loss: 3.8051 - val_loss: 4.1883\n",
      "Epoch 84/100\n",
      "8/8 [==============================] - 0s 3ms/step - loss: 3.8025 - val_loss: 4.1897\n",
      "Epoch 85/100\n",
      "8/8 [==============================] - 0s 3ms/step - loss: 3.8030 - val_loss: 4.2023\n",
      "Epoch 86/100\n",
      "8/8 [==============================] - 0s 4ms/step - loss: 3.8041 - val_loss: 4.1850\n",
      "Epoch 87/100\n",
      "8/8 [==============================] - 0s 3ms/step - loss: 3.8047 - val_loss: 4.1940\n",
      "Epoch 88/100\n",
      "8/8 [==============================] - 0s 3ms/step - loss: 3.8020 - val_loss: 4.1827\n",
      "Epoch 89/100\n",
      "8/8 [==============================] - 0s 3ms/step - loss: 3.8067 - val_loss: 4.1932\n",
      "Epoch 90/100\n",
      "8/8 [==============================] - 0s 3ms/step - loss: 3.8024 - val_loss: 4.1965\n",
      "Epoch 91/100\n",
      "8/8 [==============================] - 0s 3ms/step - loss: 3.8026 - val_loss: 4.1969\n",
      "Epoch 92/100\n",
      "8/8 [==============================] - 0s 4ms/step - loss: 3.8025 - val_loss: 4.1906\n",
      "Epoch 93/100\n",
      "8/8 [==============================] - 0s 3ms/step - loss: 3.8059 - val_loss: 4.1856\n",
      "Epoch 94/100\n",
      "8/8 [==============================] - 0s 3ms/step - loss: 3.8041 - val_loss: 4.1942\n",
      "Epoch 95/100\n",
      "8/8 [==============================] - 0s 3ms/step - loss: 3.8067 - val_loss: 4.1923\n",
      "Epoch 96/100\n",
      "8/8 [==============================] - 0s 3ms/step - loss: 3.8035 - val_loss: 4.1844\n",
      "Epoch 97/100\n",
      "8/8 [==============================] - 0s 3ms/step - loss: 3.8058 - val_loss: 4.2055\n",
      "Epoch 98/100\n",
      "8/8 [==============================] - 0s 4ms/step - loss: 3.8046 - val_loss: 4.1975\n",
      "Epoch 99/100\n",
      "8/8 [==============================] - 0s 3ms/step - loss: 3.8111 - val_loss: 4.1492\n",
      "Epoch 100/100\n",
      "8/8 [==============================] - 0s 3ms/step - loss: 3.8065 - val_loss: 4.1538\n"
     ]
    }
   ],
   "source": [
    "Result = single_feature_model.fit(train_features[feature],train_labels,\n",
    "    epochs=100,\n",
    "    verbose = 1,\n",
    "    validation_split = 0.2)"
   ]
  },
  {
   "cell_type": "code",
   "execution_count": 86,
   "metadata": {},
   "outputs": [
    {
     "data": {
      "image/png": "[encoded data removed]",
      "text/plain": [
       "<Figure size 720x720 with 1 Axes>"
      ]
     },
     "metadata": {
      "needs_background": "light"
     },
     "output_type": "display_data"
    }
   ],
   "source": [
    "def plot_loss(Result):\n",
    "    plt.figure(figsize=(10,10))\n",
    "    plt.plot(Result.history['loss'], label='loss')\n",
    "    plt.plot(Result.history['val_loss'], label='val_loss')\n",
    "    plt.ylim([0, 25])\n",
    "    plt.xlabel('Epoch')\n",
    "    plt.ylabel('Error [MPG]')\n",
    "    plt.legend()\n",
    "    plt.grid(True)\n",
    "plot_loss(Result)"
   ]
  },
  {
   "cell_type": "code",
   "execution_count": 87,
   "metadata": {},
   "outputs": [
    {
     "name": "stdout",
     "output_type": "stream",
     "text": [
      "3/3 [==============================] - 0s 1ms/step - loss: 3.6527\n"
     ]
    },
    {
     "data": {
      "text/plain": [
       "3.652677059173584"
      ]
     },
     "execution_count": 87,
     "metadata": {},
     "output_type": "execute_result"
    }
   ],
   "source": [
    "single_feature_model.evaluate(\n",
    "    test_features[feature],\n",
    "    test_labels , verbose = 1\n",
    ")"
   ]
  },
  {
   "cell_type": "code",
   "execution_count": 88,
   "metadata": {},
   "outputs": [
    {
     "name": "stdout",
     "output_type": "stream",
     "text": [
      "7/7 [==============================] - 0s 997us/step\n"
     ]
    },
    {
     "data": {
      "image/png": "[encoded data removed]",
      "text/plain": [
       "<Figure size 720x576 with 1 Axes>"
      ]
     },
     "metadata": {
      "needs_background": "light"
     },
     "output_type": "display_data"
    }
   ],
   "source": [
    "range_min = np.min(test_features[feature]) - 10\n",
    "range_max = np.max(test_features[feature]) + 10\n",
    "x = np.linspace(range_min,range_max , 200)\n",
    "y = single_feature_model.predict(x)\n",
    "\n",
    "plot(feature , x,y)"
   ]
  },
  {
   "cell_type": "markdown",
   "metadata": {},
   "source": [
    "now a DNN"
   ]
  },
  {
   "cell_type": "code",
   "execution_count": 89,
   "metadata": {},
   "outputs": [],
   "source": [
    "#DNN\n",
    "dnn_model = tf.keras.models.Sequential()\n",
    "dnn_model.add(tf.keras.Input(shape=(1)))\n",
    "dnn_model.add(single_feature_normalizer)\n",
    "dnn_model.add(tf.keras.layers.Dense(64 , activation = 'relu'))\n",
    "dnn_model.add(tf.keras.layers.Dense(64, activation = 'relu'))\n",
    "dnn_model.add(tf.keras.layers.Dense(1))"
   ]
  },
  {
   "cell_type": "code",
   "execution_count": 90,
   "metadata": {},
   "outputs": [
    {
     "name": "stdout",
     "output_type": "stream",
     "text": [
      "Model: \"sequential_18\"\n",
      "_________________________________________________________________\n",
      " Layer (type)                Output Shape              Param #   \n",
      "=================================================================\n",
      " normalization_3 (Normalizat  (None, 1)                3         \n",
      " ion)                                                            \n",
      "                                                                 \n",
      " dense_17 (Dense)            (None, 64)                128       \n",
      "                                                                 \n",
      " dense_18 (Dense)            (None, 64)                4160      \n",
      "                                                                 \n",
      " dense_19 (Dense)            (None, 1)                 65        \n",
      "                                                                 \n",
      "=================================================================\n",
      "Total params: 4,356\n",
      "Trainable params: 4,353\n",
      "Non-trainable params: 3\n",
      "_________________________________________________________________\n"
     ]
    }
   ],
   "source": [
    "dnn_model.compile( loss = loss , optimizer = tf.keras.optimizers.Adam(0.001))\n",
    "dnn_model.summary()"
   ]
  },
  {
   "cell_type": "code",
   "execution_count": 91,
   "metadata": {},
   "outputs": [
    {
     "name": "stdout",
     "output_type": "stream",
     "text": [
      "Epoch 1/100\n",
      "8/8 [==============================] - 0s 14ms/step - loss: 23.0295 - val_loss: 23.3876\n",
      "Epoch 2/100\n",
      "8/8 [==============================] - 0s 3ms/step - loss: 22.7727 - val_loss: 23.1151\n",
      "Epoch 3/100\n",
      "8/8 [==============================] - 0s 4ms/step - loss: 22.5053 - val_loss: 22.8008\n",
      "Epoch 4/100\n",
      "8/8 [==============================] - 0s 4ms/step - loss: 22.1822 - val_loss: 22.4241\n",
      "Epoch 5/100\n",
      "8/8 [==============================] - 0s 4ms/step - loss: 21.7883 - val_loss: 21.9579\n",
      "Epoch 6/100\n",
      "8/8 [==============================] - 0s 4ms/step - loss: 21.3014 - val_loss: 21.3630\n",
      "Epoch 7/100\n",
      "8/8 [==============================] - 0s 4ms/step - loss: 20.6622 - val_loss: 20.6165\n",
      "Epoch 8/100\n",
      "8/8 [==============================] - 0s 4ms/step - loss: 19.8594 - val_loss: 19.7176\n",
      "Epoch 9/100\n",
      "8/8 [==============================] - 0s 4ms/step - loss: 18.9550 - val_loss: 18.6941\n",
      "Epoch 10/100\n",
      "8/8 [==============================] - 0s 4ms/step - loss: 17.9918 - val_loss: 17.6677\n",
      "Epoch 11/100\n",
      "8/8 [==============================] - 0s 4ms/step - loss: 16.9016 - val_loss: 16.6331\n",
      "Epoch 12/100\n",
      "8/8 [==============================] - 0s 4ms/step - loss: 15.6898 - val_loss: 15.5319\n",
      "Epoch 13/100\n",
      "8/8 [==============================] - 0s 4ms/step - loss: 14.3682 - val_loss: 14.3025\n",
      "Epoch 14/100\n",
      "8/8 [==============================] - 0s 4ms/step - loss: 12.9178 - val_loss: 12.8446\n",
      "Epoch 15/100\n",
      "8/8 [==============================] - 0s 4ms/step - loss: 11.2634 - val_loss: 11.0723\n",
      "Epoch 16/100\n",
      "8/8 [==============================] - 0s 4ms/step - loss: 9.4275 - val_loss: 9.0321\n",
      "Epoch 17/100\n",
      "8/8 [==============================] - 0s 4ms/step - loss: 7.3377 - val_loss: 7.0274\n",
      "Epoch 18/100\n",
      "8/8 [==============================] - 0s 3ms/step - loss: 5.3397 - val_loss: 5.4098\n",
      "Epoch 19/100\n",
      "8/8 [==============================] - 0s 4ms/step - loss: 4.2236 - val_loss: 4.9356\n",
      "Epoch 20/100\n",
      "8/8 [==============================] - 0s 3ms/step - loss: 3.9035 - val_loss: 4.7720\n",
      "Epoch 21/100\n",
      "8/8 [==============================] - 0s 4ms/step - loss: 3.8293 - val_loss: 4.6469\n",
      "Epoch 22/100\n",
      "8/8 [==============================] - 0s 4ms/step - loss: 3.7865 - val_loss: 4.5587\n",
      "Epoch 23/100\n",
      "8/8 [==============================] - 0s 4ms/step - loss: 3.7472 - val_loss: 4.5213\n",
      "Epoch 24/100\n",
      "8/8 [==============================] - 0s 4ms/step - loss: 3.7186 - val_loss: 4.4761\n",
      "Epoch 25/100\n",
      "8/8 [==============================] - 0s 4ms/step - loss: 3.6871 - val_loss: 4.4451\n",
      "Epoch 26/100\n",
      "8/8 [==============================] - 0s 4ms/step - loss: 3.6621 - val_loss: 4.4121\n",
      "Epoch 27/100\n",
      "8/8 [==============================] - 0s 4ms/step - loss: 3.6408 - val_loss: 4.3795\n",
      "Epoch 28/100\n",
      "8/8 [==============================] - 0s 4ms/step - loss: 3.6221 - val_loss: 4.3343\n",
      "Epoch 29/100\n",
      "8/8 [==============================] - 0s 4ms/step - loss: 3.6102 - val_loss: 4.2874\n",
      "Epoch 30/100\n",
      "8/8 [==============================] - 0s 4ms/step - loss: 3.5990 - val_loss: 4.2682\n",
      "Epoch 31/100\n",
      "8/8 [==============================] - 0s 4ms/step - loss: 3.5927 - val_loss: 4.2266\n",
      "Epoch 32/100\n",
      "8/8 [==============================] - 0s 4ms/step - loss: 3.5594 - val_loss: 4.1959\n",
      "Epoch 33/100\n",
      "8/8 [==============================] - 0s 4ms/step - loss: 3.5421 - val_loss: 4.1923\n",
      "Epoch 34/100\n",
      "8/8 [==============================] - 0s 4ms/step - loss: 3.5340 - val_loss: 4.1721\n",
      "Epoch 35/100\n",
      "8/8 [==============================] - 0s 3ms/step - loss: 3.5253 - val_loss: 4.1351\n",
      "Epoch 36/100\n",
      "8/8 [==============================] - 0s 4ms/step - loss: 3.5168 - val_loss: 4.1258\n",
      "Epoch 37/100\n",
      "8/8 [==============================] - 0s 3ms/step - loss: 3.5080 - val_loss: 4.1025\n",
      "Epoch 38/100\n",
      "8/8 [==============================] - 0s 4ms/step - loss: 3.4911 - val_loss: 4.1045\n",
      "Epoch 39/100\n",
      "8/8 [==============================] - 0s 3ms/step - loss: 3.4829 - val_loss: 4.0755\n",
      "Epoch 40/100\n",
      "8/8 [==============================] - 0s 4ms/step - loss: 3.4702 - val_loss: 4.0505\n",
      "Epoch 41/100\n",
      "8/8 [==============================] - 0s 3ms/step - loss: 3.4529 - val_loss: 4.0360\n",
      "Epoch 42/100\n",
      "8/8 [==============================] - 0s 4ms/step - loss: 3.4479 - val_loss: 4.0215\n",
      "Epoch 43/100\n",
      "8/8 [==============================] - 0s 3ms/step - loss: 3.4318 - val_loss: 4.0031\n",
      "Epoch 44/100\n",
      "8/8 [==============================] - 0s 3ms/step - loss: 3.4188 - val_loss: 3.9845\n",
      "Epoch 45/100\n",
      "8/8 [==============================] - 0s 3ms/step - loss: 3.4125 - val_loss: 3.9602\n",
      "Epoch 46/100\n",
      "8/8 [==============================] - 0s 4ms/step - loss: 3.4015 - val_loss: 3.9439\n",
      "Epoch 47/100\n",
      "8/8 [==============================] - 0s 3ms/step - loss: 3.3925 - val_loss: 3.9313\n",
      "Epoch 48/100\n",
      "8/8 [==============================] - 0s 4ms/step - loss: 3.3931 - val_loss: 3.9096\n",
      "Epoch 49/100\n",
      "8/8 [==============================] - 0s 3ms/step - loss: 3.3718 - val_loss: 3.8974\n",
      "Epoch 50/100\n",
      "8/8 [==============================] - 0s 3ms/step - loss: 3.3661 - val_loss: 3.8851\n",
      "Epoch 51/100\n",
      "8/8 [==============================] - 0s 3ms/step - loss: 3.3610 - val_loss: 3.8742\n",
      "Epoch 52/100\n",
      "8/8 [==============================] - 0s 3ms/step - loss: 3.3496 - val_loss: 3.8608\n",
      "Epoch 53/100\n",
      "8/8 [==============================] - 0s 3ms/step - loss: 3.3496 - val_loss: 3.8468\n",
      "Epoch 54/100\n",
      "8/8 [==============================] - 0s 3ms/step - loss: 3.3398 - val_loss: 3.8401\n",
      "Epoch 55/100\n",
      "8/8 [==============================] - 0s 4ms/step - loss: 3.3352 - val_loss: 3.8285\n",
      "Epoch 56/100\n",
      "8/8 [==============================] - 0s 4ms/step - loss: 3.3273 - val_loss: 3.8212\n",
      "Epoch 57/100\n",
      "8/8 [==============================] - 0s 4ms/step - loss: 3.3373 - val_loss: 3.8145\n",
      "Epoch 58/100\n",
      "8/8 [==============================] - 0s 3ms/step - loss: 3.3241 - val_loss: 3.8240\n",
      "Epoch 59/100\n",
      "8/8 [==============================] - 0s 3ms/step - loss: 3.3288 - val_loss: 3.7987\n",
      "Epoch 60/100\n",
      "8/8 [==============================] - 0s 4ms/step - loss: 3.3177 - val_loss: 3.7936\n",
      "Epoch 61/100\n",
      "8/8 [==============================] - 0s 4ms/step - loss: 3.3013 - val_loss: 3.7873\n",
      "Epoch 62/100\n",
      "8/8 [==============================] - 0s 4ms/step - loss: 3.3043 - val_loss: 3.7860\n",
      "Epoch 63/100\n",
      "8/8 [==============================] - 0s 4ms/step - loss: 3.3009 - val_loss: 3.7705\n",
      "Epoch 64/100\n",
      "8/8 [==============================] - 0s 4ms/step - loss: 3.2949 - val_loss: 3.7683\n",
      "Epoch 65/100\n",
      "8/8 [==============================] - 0s 3ms/step - loss: 3.2876 - val_loss: 3.7645\n",
      "Epoch 66/100\n",
      "8/8 [==============================] - 0s 4ms/step - loss: 3.2838 - val_loss: 3.7630\n",
      "Epoch 67/100\n",
      "8/8 [==============================] - 0s 3ms/step - loss: 3.3030 - val_loss: 3.7703\n",
      "Epoch 68/100\n",
      "8/8 [==============================] - 0s 4ms/step - loss: 3.2960 - val_loss: 3.7547\n",
      "Epoch 69/100\n",
      "8/8 [==============================] - 0s 3ms/step - loss: 3.2817 - val_loss: 3.7721\n",
      "Epoch 70/100\n",
      "8/8 [==============================] - 0s 3ms/step - loss: 3.2817 - val_loss: 3.7648\n",
      "Epoch 71/100\n",
      "8/8 [==============================] - 0s 4ms/step - loss: 3.2769 - val_loss: 3.7555\n",
      "Epoch 72/100\n",
      "8/8 [==============================] - 0s 4ms/step - loss: 3.2822 - val_loss: 3.7564\n",
      "Epoch 73/100\n",
      "8/8 [==============================] - 0s 3ms/step - loss: 3.2786 - val_loss: 3.7924\n",
      "Epoch 74/100\n",
      "8/8 [==============================] - 0s 4ms/step - loss: 3.2920 - val_loss: 3.7816\n",
      "Epoch 75/100\n",
      "8/8 [==============================] - 0s 3ms/step - loss: 3.2858 - val_loss: 3.7557\n",
      "Epoch 76/100\n",
      "8/8 [==============================] - 0s 4ms/step - loss: 3.2708 - val_loss: 3.7642\n",
      "Epoch 77/100\n",
      "8/8 [==============================] - 0s 4ms/step - loss: 3.2743 - val_loss: 3.7678\n",
      "Epoch 78/100\n",
      "8/8 [==============================] - 0s 4ms/step - loss: 3.2727 - val_loss: 3.7493\n",
      "Epoch 79/100\n",
      "8/8 [==============================] - 0s 3ms/step - loss: 3.2747 - val_loss: 3.7503\n",
      "Epoch 80/100\n",
      "8/8 [==============================] - 0s 4ms/step - loss: 3.2849 - val_loss: 3.7684\n",
      "Epoch 81/100\n",
      "8/8 [==============================] - 0s 3ms/step - loss: 3.2663 - val_loss: 3.7676\n",
      "Epoch 82/100\n",
      "8/8 [==============================] - 0s 4ms/step - loss: 3.2744 - val_loss: 3.7602\n",
      "Epoch 83/100\n",
      "8/8 [==============================] - 0s 3ms/step - loss: 3.2676 - val_loss: 3.7655\n",
      "Epoch 84/100\n",
      "8/8 [==============================] - 0s 4ms/step - loss: 3.2669 - val_loss: 3.7737\n",
      "Epoch 85/100\n",
      "8/8 [==============================] - 0s 3ms/step - loss: 3.2641 - val_loss: 3.7643\n",
      "Epoch 86/100\n",
      "8/8 [==============================] - 0s 4ms/step - loss: 3.2727 - val_loss: 3.7580\n",
      "Epoch 87/100\n",
      "8/8 [==============================] - 0s 4ms/step - loss: 3.2643 - val_loss: 3.7491\n",
      "Epoch 88/100\n",
      "8/8 [==============================] - 0s 4ms/step - loss: 3.2699 - val_loss: 3.7641\n",
      "Epoch 89/100\n",
      "8/8 [==============================] - 0s 3ms/step - loss: 3.2693 - val_loss: 3.7767\n",
      "Epoch 90/100\n",
      "8/8 [==============================] - 0s 3ms/step - loss: 3.2715 - val_loss: 3.7765\n",
      "Epoch 91/100\n",
      "8/8 [==============================] - 0s 3ms/step - loss: 3.2593 - val_loss: 3.7497\n",
      "Epoch 92/100\n",
      "8/8 [==============================] - 0s 4ms/step - loss: 3.2617 - val_loss: 3.7495\n",
      "Epoch 93/100\n",
      "8/8 [==============================] - 0s 3ms/step - loss: 3.2573 - val_loss: 3.7695\n",
      "Epoch 94/100\n",
      "8/8 [==============================] - 0s 3ms/step - loss: 3.2575 - val_loss: 3.7610\n",
      "Epoch 95/100\n",
      "8/8 [==============================] - 0s 3ms/step - loss: 3.2626 - val_loss: 3.7738\n",
      "Epoch 96/100\n",
      "8/8 [==============================] - 0s 4ms/step - loss: 3.2608 - val_loss: 3.7559\n",
      "Epoch 97/100\n",
      "8/8 [==============================] - 0s 4ms/step - loss: 3.2573 - val_loss: 3.7770\n",
      "Epoch 98/100\n",
      "8/8 [==============================] - 0s 4ms/step - loss: 3.2551 - val_loss: 3.7742\n",
      "Epoch 99/100\n",
      "8/8 [==============================] - 0s 3ms/step - loss: 3.2569 - val_loss: 3.7665\n",
      "Epoch 100/100\n",
      "8/8 [==============================] - 0s 4ms/step - loss: 3.2795 - val_loss: 3.7505\n"
     ]
    },
    {
     "data": {
      "text/plain": [
       "<keras.callbacks.History at 0x21ac1d7a190>"
      ]
     },
     "execution_count": 91,
     "metadata": {},
     "output_type": "execute_result"
    }
   ],
   "source": [
    "dnn_model.fit(\n",
    "    train_features[feature] , train_labels,\n",
    "    validation_split = 0.2,\n",
    "    verbose = 1 , epochs = 100\n",
    ")"
   ]
  },
  {
   "cell_type": "code",
   "execution_count": 92,
   "metadata": {},
   "outputs": [
    {
     "name": "stdout",
     "output_type": "stream",
     "text": [
      "3/3 [==============================] - 0s 1ms/step - loss: 2.9507\n"
     ]
    },
    {
     "data": {
      "text/plain": [
       "2.950718879699707"
      ]
     },
     "execution_count": 92,
     "metadata": {},
     "output_type": "execute_result"
    }
   ],
   "source": [
    "dnn_model.evaluate(test_features[feature] , test_labels , verbose= 1)"
   ]
  },
  {
   "cell_type": "code",
   "execution_count": 93,
   "metadata": {},
   "outputs": [
    {
     "name": "stdout",
     "output_type": "stream",
     "text": [
      "7/7 [==============================] - 0s 830us/step\n"
     ]
    },
    {
     "data": {
      "image/png": "[encoded data removed]",
      "text/plain": [
       "<Figure size 720x576 with 1 Axes>"
      ]
     },
     "metadata": {
      "needs_background": "light"
     },
     "output_type": "display_data"
    }
   ],
   "source": [
    " x = np.linspace(range_min , range_max , 200)\n",
    " y = dnn_model.predict(x)\n",
    "\n",
    " plot(feature , x, y)"
   ]
  },
  {
   "cell_type": "code",
   "execution_count": 97,
   "metadata": {},
   "outputs": [],
   "source": [
    "# multiple inputs\n",
    "l_model = tf.keras.models.Sequential()\n",
    "l_model.add(normalizer)\n",
    "l_model.add(layers.Dense(units = 1))\n",
    "\n",
    "l_model.compile( optimizer= tf.optimizers.Adam(learning_rate=0.1) , loss= loss )\n"
   ]
  },
  {
   "cell_type": "code",
   "execution_count": 98,
   "metadata": {},
   "outputs": [
    {
     "name": "stdout",
     "output_type": "stream",
     "text": [
      "Epoch 1/100\n",
      "8/8 [==============================] - 0s 14ms/step - loss: 22.8665 - val_loss: 23.1613\n",
      "Epoch 2/100\n",
      "8/8 [==============================] - 0s 4ms/step - loss: 22.0247 - val_loss: 22.4448\n",
      "Epoch 3/100\n",
      "8/8 [==============================] - 0s 4ms/step - loss: 21.2003 - val_loss: 21.7180\n",
      "Epoch 4/100\n",
      "8/8 [==============================] - 0s 4ms/step - loss: 20.3921 - val_loss: 20.9916\n",
      "Epoch 5/100\n",
      "8/8 [==============================] - 0s 4ms/step - loss: 19.5509 - val_loss: 20.2435\n",
      "Epoch 6/100\n",
      "8/8 [==============================] - 0s 4ms/step - loss: 18.7472 - val_loss: 19.5078\n",
      "Epoch 7/100\n",
      "8/8 [==============================] - 0s 3ms/step - loss: 17.9165 - val_loss: 18.7650\n",
      "Epoch 8/100\n",
      "8/8 [==============================] - 0s 4ms/step - loss: 17.1191 - val_loss: 18.0528\n",
      "Epoch 9/100\n",
      "8/8 [==============================] - 0s 4ms/step - loss: 16.3015 - val_loss: 17.3342\n",
      "Epoch 10/100\n",
      "8/8 [==============================] - 0s 3ms/step - loss: 15.5210 - val_loss: 16.6411\n",
      "Epoch 11/100\n",
      "8/8 [==============================] - 0s 3ms/step - loss: 14.6971 - val_loss: 15.8481\n",
      "Epoch 12/100\n",
      "8/8 [==============================] - 0s 4ms/step - loss: 13.8832 - val_loss: 15.1291\n",
      "Epoch 13/100\n",
      "8/8 [==============================] - 0s 3ms/step - loss: 13.0650 - val_loss: 14.4233\n",
      "Epoch 14/100\n",
      "8/8 [==============================] - 0s 3ms/step - loss: 12.2608 - val_loss: 13.7336\n",
      "Epoch 15/100\n",
      "8/8 [==============================] - 0s 3ms/step - loss: 11.4621 - val_loss: 12.9728\n",
      "Epoch 16/100\n",
      "8/8 [==============================] - 0s 4ms/step - loss: 10.6667 - val_loss: 12.2231\n",
      "Epoch 17/100\n",
      "8/8 [==============================] - 0s 3ms/step - loss: 9.8860 - val_loss: 11.4912\n",
      "Epoch 18/100\n",
      "8/8 [==============================] - 0s 4ms/step - loss: 9.1176 - val_loss: 10.7066\n",
      "Epoch 19/100\n",
      "8/8 [==============================] - 0s 4ms/step - loss: 8.3606 - val_loss: 9.9273\n",
      "Epoch 20/100\n",
      "8/8 [==============================] - 0s 4ms/step - loss: 7.6418 - val_loss: 9.2197\n",
      "Epoch 21/100\n",
      "8/8 [==============================] - 0s 4ms/step - loss: 6.9915 - val_loss: 8.4836\n",
      "Epoch 22/100\n",
      "8/8 [==============================] - 0s 4ms/step - loss: 6.3978 - val_loss: 7.8209\n",
      "Epoch 23/100\n",
      "8/8 [==============================] - 0s 4ms/step - loss: 5.8524 - val_loss: 7.2468\n",
      "Epoch 24/100\n",
      "8/8 [==============================] - 0s 4ms/step - loss: 5.3212 - val_loss: 6.5888\n",
      "Epoch 25/100\n",
      "8/8 [==============================] - 0s 4ms/step - loss: 4.8399 - val_loss: 6.0264\n",
      "Epoch 26/100\n",
      "8/8 [==============================] - 0s 4ms/step - loss: 4.4132 - val_loss: 5.3710\n",
      "Epoch 27/100\n",
      "8/8 [==============================] - 0s 4ms/step - loss: 3.9652 - val_loss: 4.6768\n",
      "Epoch 28/100\n",
      "8/8 [==============================] - 0s 4ms/step - loss: 3.5588 - val_loss: 4.0170\n",
      "Epoch 29/100\n",
      "8/8 [==============================] - 0s 4ms/step - loss: 3.1627 - val_loss: 3.5667\n",
      "Epoch 30/100\n",
      "8/8 [==============================] - 0s 4ms/step - loss: 2.9892 - val_loss: 3.2334\n",
      "Epoch 31/100\n",
      "8/8 [==============================] - 0s 3ms/step - loss: 2.7675 - val_loss: 2.8606\n",
      "Epoch 32/100\n",
      "8/8 [==============================] - 0s 4ms/step - loss: 2.6906 - val_loss: 2.8281\n",
      "Epoch 33/100\n",
      "8/8 [==============================] - 0s 4ms/step - loss: 2.6055 - val_loss: 2.7056\n",
      "Epoch 34/100\n",
      "8/8 [==============================] - 0s 4ms/step - loss: 2.5910 - val_loss: 2.6595\n",
      "Epoch 35/100\n",
      "8/8 [==============================] - 0s 4ms/step - loss: 2.5619 - val_loss: 2.6654\n",
      "Epoch 36/100\n",
      "8/8 [==============================] - 0s 4ms/step - loss: 2.5258 - val_loss: 2.6123\n",
      "Epoch 37/100\n",
      "8/8 [==============================] - 0s 4ms/step - loss: 2.5060 - val_loss: 2.6243\n",
      "Epoch 38/100\n",
      "8/8 [==============================] - 0s 3ms/step - loss: 2.5040 - val_loss: 2.5458\n",
      "Epoch 39/100\n",
      "8/8 [==============================] - 0s 3ms/step - loss: 2.4981 - val_loss: 2.5739\n",
      "Epoch 40/100\n",
      "8/8 [==============================] - 0s 3ms/step - loss: 2.4856 - val_loss: 2.5164\n",
      "Epoch 41/100\n",
      "8/8 [==============================] - 0s 4ms/step - loss: 2.4955 - val_loss: 2.5308\n",
      "Epoch 42/100\n",
      "8/8 [==============================] - 0s 3ms/step - loss: 2.5126 - val_loss: 2.5039\n",
      "Epoch 43/100\n",
      "8/8 [==============================] - 0s 3ms/step - loss: 2.5013 - val_loss: 2.5537\n",
      "Epoch 44/100\n",
      "8/8 [==============================] - 0s 3ms/step - loss: 2.4794 - val_loss: 2.4976\n",
      "Epoch 45/100\n",
      "8/8 [==============================] - 0s 4ms/step - loss: 2.4788 - val_loss: 2.5068\n",
      "Epoch 46/100\n",
      "8/8 [==============================] - 0s 3ms/step - loss: 2.4906 - val_loss: 2.4956\n",
      "Epoch 47/100\n",
      "8/8 [==============================] - 0s 3ms/step - loss: 2.4838 - val_loss: 2.5329\n",
      "Epoch 48/100\n",
      "8/8 [==============================] - 0s 3ms/step - loss: 2.4956 - val_loss: 2.4705\n",
      "Epoch 49/100\n",
      "8/8 [==============================] - 0s 4ms/step - loss: 2.4850 - val_loss: 2.4823\n",
      "Epoch 50/100\n",
      "8/8 [==============================] - 0s 4ms/step - loss: 2.4849 - val_loss: 2.4936\n",
      "Epoch 51/100\n",
      "8/8 [==============================] - 0s 4ms/step - loss: 2.4834 - val_loss: 2.4950\n",
      "Epoch 52/100\n",
      "8/8 [==============================] - 0s 4ms/step - loss: 2.4860 - val_loss: 2.4701\n",
      "Epoch 53/100\n",
      "8/8 [==============================] - 0s 4ms/step - loss: 2.5674 - val_loss: 2.4743\n",
      "Epoch 54/100\n",
      "8/8 [==============================] - 0s 5ms/step - loss: 2.5392 - val_loss: 2.6030\n",
      "Epoch 55/100\n",
      "8/8 [==============================] - 0s 4ms/step - loss: 2.5149 - val_loss: 2.4959\n",
      "Epoch 56/100\n",
      "8/8 [==============================] - 0s 4ms/step - loss: 2.4810 - val_loss: 2.5878\n",
      "Epoch 57/100\n",
      "8/8 [==============================] - 0s 5ms/step - loss: 2.4878 - val_loss: 2.4966\n",
      "Epoch 58/100\n",
      "8/8 [==============================] - 0s 4ms/step - loss: 2.4756 - val_loss: 2.5620\n",
      "Epoch 59/100\n",
      "8/8 [==============================] - 0s 4ms/step - loss: 2.4850 - val_loss: 2.4840\n",
      "Epoch 60/100\n",
      "8/8 [==============================] - 0s 4ms/step - loss: 2.4738 - val_loss: 2.4982\n",
      "Epoch 61/100\n",
      "8/8 [==============================] - 0s 4ms/step - loss: 2.4969 - val_loss: 2.4662\n",
      "Epoch 62/100\n",
      "8/8 [==============================] - 0s 5ms/step - loss: 2.5314 - val_loss: 2.4653\n",
      "Epoch 63/100\n",
      "8/8 [==============================] - 0s 4ms/step - loss: 2.4960 - val_loss: 2.5034\n",
      "Epoch 64/100\n",
      "8/8 [==============================] - 0s 4ms/step - loss: 2.5403 - val_loss: 2.4635\n",
      "Epoch 65/100\n",
      "8/8 [==============================] - 0s 5ms/step - loss: 2.4707 - val_loss: 2.5173\n",
      "Epoch 66/100\n",
      "8/8 [==============================] - 0s 4ms/step - loss: 2.4823 - val_loss: 2.4697\n",
      "Epoch 67/100\n",
      "8/8 [==============================] - 0s 4ms/step - loss: 2.4801 - val_loss: 2.5173\n",
      "Epoch 68/100\n",
      "8/8 [==============================] - 0s 4ms/step - loss: 2.4797 - val_loss: 2.5129\n",
      "Epoch 69/100\n",
      "8/8 [==============================] - 0s 5ms/step - loss: 2.4953 - val_loss: 2.4841\n",
      "Epoch 70/100\n",
      "8/8 [==============================] - 0s 4ms/step - loss: 2.4812 - val_loss: 2.5044\n",
      "Epoch 71/100\n",
      "8/8 [==============================] - 0s 4ms/step - loss: 2.4767 - val_loss: 2.4977\n",
      "Epoch 72/100\n",
      "8/8 [==============================] - 0s 5ms/step - loss: 2.4656 - val_loss: 2.5027\n",
      "Epoch 73/100\n",
      "8/8 [==============================] - 0s 4ms/step - loss: 2.4796 - val_loss: 2.4666\n",
      "Epoch 74/100\n",
      "8/8 [==============================] - 0s 4ms/step - loss: 2.4701 - val_loss: 2.4993\n",
      "Epoch 75/100\n",
      "8/8 [==============================] - 0s 4ms/step - loss: 2.4710 - val_loss: 2.4709\n",
      "Epoch 76/100\n",
      "8/8 [==============================] - 0s 4ms/step - loss: 2.4767 - val_loss: 2.4748\n",
      "Epoch 77/100\n",
      "8/8 [==============================] - 0s 5ms/step - loss: 2.4607 - val_loss: 2.5070\n",
      "Epoch 78/100\n",
      "8/8 [==============================] - 0s 4ms/step - loss: 2.4852 - val_loss: 2.4884\n",
      "Epoch 79/100\n",
      "8/8 [==============================] - 0s 5ms/step - loss: 2.4783 - val_loss: 2.5052\n",
      "Epoch 80/100\n",
      "8/8 [==============================] - 0s 4ms/step - loss: 2.4713 - val_loss: 2.4889\n",
      "Epoch 81/100\n",
      "8/8 [==============================] - 0s 5ms/step - loss: 2.4642 - val_loss: 2.4610\n",
      "Epoch 82/100\n",
      "8/8 [==============================] - 0s 4ms/step - loss: 2.4798 - val_loss: 2.4641\n",
      "Epoch 83/100\n",
      "8/8 [==============================] - 0s 4ms/step - loss: 2.4738 - val_loss: 2.4612\n",
      "Epoch 84/100\n",
      "8/8 [==============================] - 0s 4ms/step - loss: 2.4754 - val_loss: 2.4794\n",
      "Epoch 85/100\n",
      "8/8 [==============================] - 0s 4ms/step - loss: 2.4897 - val_loss: 2.4713\n",
      "Epoch 86/100\n",
      "8/8 [==============================] - 0s 5ms/step - loss: 2.4786 - val_loss: 2.4818\n",
      "Epoch 87/100\n",
      "8/8 [==============================] - 0s 4ms/step - loss: 2.4775 - val_loss: 2.5075\n",
      "Epoch 88/100\n",
      "8/8 [==============================] - 0s 3ms/step - loss: 2.4710 - val_loss: 2.4688\n",
      "Epoch 89/100\n",
      "8/8 [==============================] - 0s 4ms/step - loss: 2.4678 - val_loss: 2.4640\n",
      "Epoch 90/100\n",
      "8/8 [==============================] - 0s 3ms/step - loss: 2.4638 - val_loss: 2.4776\n",
      "Epoch 91/100\n",
      "8/8 [==============================] - 0s 4ms/step - loss: 2.4707 - val_loss: 2.4509\n",
      "Epoch 92/100\n",
      "8/8 [==============================] - 0s 4ms/step - loss: 2.4697 - val_loss: 2.4770\n",
      "Epoch 93/100\n",
      "8/8 [==============================] - 0s 4ms/step - loss: 2.4708 - val_loss: 2.4682\n",
      "Epoch 94/100\n",
      "8/8 [==============================] - 0s 4ms/step - loss: 2.4815 - val_loss: 2.4583\n",
      "Epoch 95/100\n",
      "8/8 [==============================] - 0s 3ms/step - loss: 2.4841 - val_loss: 2.4624\n",
      "Epoch 96/100\n",
      "8/8 [==============================] - 0s 4ms/step - loss: 2.4934 - val_loss: 2.4673\n",
      "Epoch 97/100\n",
      "8/8 [==============================] - 0s 4ms/step - loss: 2.4699 - val_loss: 2.4647\n",
      "Epoch 98/100\n",
      "8/8 [==============================] - 0s 4ms/step - loss: 2.4652 - val_loss: 2.5011\n",
      "Epoch 99/100\n",
      "8/8 [==============================] - 0s 4ms/step - loss: 2.4820 - val_loss: 2.4708\n",
      "Epoch 100/100\n",
      "8/8 [==============================] - 0s 4ms/step - loss: 2.4734 - val_loss: 2.4612\n"
     ]
    },
    {
     "data": {
      "text/plain": [
       "<keras.callbacks.History at 0x21ac1feec40>"
      ]
     },
     "execution_count": 98,
     "metadata": {},
     "output_type": "execute_result"
    }
   ],
   "source": [
    "l_model.fit(\n",
    "    train_features ,train_labels , epochs =100 , verbose =1 , validation_split =0.2\n",
    ")"
   ]
  },
  {
   "cell_type": "code",
   "execution_count": 99,
   "metadata": {},
   "outputs": [
    {
     "name": "stdout",
     "output_type": "stream",
     "text": [
      "3/3 [==============================] - 0s 999us/step - loss: 2.4793\n"
     ]
    },
    {
     "data": {
      "text/plain": [
       "2.4792943000793457"
      ]
     },
     "execution_count": 99,
     "metadata": {},
     "output_type": "execute_result"
    }
   ],
   "source": [
    "l_model.evaluate( test_features ,test_labels ,verbose =1 )"
   ]
  }
 ],
 "metadata": {
  "kernelspec": {
   "display_name": "Python 3.9.12 ('base')",
   "language": "python",
   "name": "python3"
  },
  "language_info": {
   "codemirror_mode": {
    "name": "ipython",
    "version": 3
   },
   "file_extension": ".py",
   "mimetype": "text/x-python",
   "name": "python",
   "nbconvert_exporter": "python",
   "pygments_lexer": "ipython3",
   "version": "3.9.12"
  },
  "orig_nbformat": 4,
  "vscode": {
   "interpreter": {
    "hash": "6fa20e30b057ebd6b5c548a33de14789bcd1ee59bdb1d8aadd5188efa915b212"
   }
  }
 },
 "nbformat": 4,
 "nbformat_minor": 2
}
